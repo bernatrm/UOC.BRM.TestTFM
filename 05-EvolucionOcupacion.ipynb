{
 "cells": [
  {
   "cell_type": "markdown",
   "metadata": {},
   "source": [
    "# Realizamos nuestro forecast\n",
    "_Importación de librerias_"
   ]
  },
  {
   "cell_type": "code",
   "execution_count": 78,
   "metadata": {},
   "outputs": [],
   "source": [
    "import pandas as pd\n",
    "from darts import TimeSeries\n",
    "from darts.models import RNNModel, TCNModel, TransformerModel, NBEATSModel, BlockRNNModel\n",
    "from darts.metrics import mape, smape\n",
    "\n",
    "import tfm_helpers as tfm\n",
    "\n",
    "pd.set_option(\"display.max_columns\", None)"
   ]
  },
  {
   "cell_type": "code",
   "execution_count": 79,
   "metadata": {},
   "outputs": [
    {
     "data": {
      "text/html": [
       "<div>\n",
       "<style scoped>\n",
       "    .dataframe tbody tr th:only-of-type {\n",
       "        vertical-align: middle;\n",
       "    }\n",
       "\n",
       "    .dataframe tbody tr th {\n",
       "        vertical-align: top;\n",
       "    }\n",
       "\n",
       "    .dataframe thead th {\n",
       "        text-align: right;\n",
       "    }\n",
       "</style>\n",
       "<table border=\"1\" class=\"dataframe\">\n",
       "  <thead>\n",
       "    <tr style=\"text-align: right;\">\n",
       "      <th></th>\n",
       "      <th></th>\n",
       "      <th></th>\n",
       "      <th>Cantidad habitaciones</th>\n",
       "      <th>Habitaciones Hotel</th>\n",
       "    </tr>\n",
       "    <tr>\n",
       "      <th>Hotel</th>\n",
       "      <th>Fecha foto</th>\n",
       "      <th>Fecha prevision</th>\n",
       "      <th></th>\n",
       "      <th></th>\n",
       "    </tr>\n",
       "  </thead>\n",
       "  <tbody>\n",
       "    <tr>\n",
       "      <th rowspan=\"5\" valign=\"top\">02</th>\n",
       "      <th rowspan=\"5\" valign=\"top\">2012-06-10</th>\n",
       "      <th>2013-09-19</th>\n",
       "      <td>1</td>\n",
       "      <td>297.0</td>\n",
       "    </tr>\n",
       "    <tr>\n",
       "      <th>2013-09-20</th>\n",
       "      <td>1</td>\n",
       "      <td>297.0</td>\n",
       "    </tr>\n",
       "    <tr>\n",
       "      <th>2013-09-21</th>\n",
       "      <td>1</td>\n",
       "      <td>297.0</td>\n",
       "    </tr>\n",
       "    <tr>\n",
       "      <th>2013-09-22</th>\n",
       "      <td>1</td>\n",
       "      <td>297.0</td>\n",
       "    </tr>\n",
       "    <tr>\n",
       "      <th>2013-09-23</th>\n",
       "      <td>1</td>\n",
       "      <td>297.0</td>\n",
       "    </tr>\n",
       "  </tbody>\n",
       "</table>\n",
       "</div>"
      ],
      "text/plain": [
       "                                  Cantidad habitaciones  Habitaciones Hotel\n",
       "Hotel Fecha foto Fecha prevision                                           \n",
       "02    2012-06-10 2013-09-19                           1               297.0\n",
       "                 2013-09-20                           1               297.0\n",
       "                 2013-09-21                           1               297.0\n",
       "                 2013-09-22                           1               297.0\n",
       "                 2013-09-23                           1               297.0"
      ]
     },
     "execution_count": 79,
     "metadata": {},
     "output_type": "execute_result"
    }
   ],
   "source": [
    "# Read a pandas DataFrame\n",
    "df = pd.read_parquet(tfm.getPathToProcessedSnapshotResumenOcupacion(\"parquet\"))\n",
    "\n",
    "df.head()\n"
   ]
  },
  {
   "cell_type": "code",
   "execution_count": 80,
   "metadata": {},
   "outputs": [
    {
     "data": {
      "text/html": [
       "<div>\n",
       "<style scoped>\n",
       "    .dataframe tbody tr th:only-of-type {\n",
       "        vertical-align: middle;\n",
       "    }\n",
       "\n",
       "    .dataframe tbody tr th {\n",
       "        vertical-align: top;\n",
       "    }\n",
       "\n",
       "    .dataframe thead th {\n",
       "        text-align: right;\n",
       "    }\n",
       "</style>\n",
       "<table border=\"1\" class=\"dataframe\">\n",
       "  <thead>\n",
       "    <tr style=\"text-align: right;\">\n",
       "      <th></th>\n",
       "      <th></th>\n",
       "      <th>Cantidad habitaciones</th>\n",
       "      <th>Habitaciones Hotel</th>\n",
       "      <th>% Ocupacion</th>\n",
       "    </tr>\n",
       "    <tr>\n",
       "      <th>Fecha foto</th>\n",
       "      <th>Fecha prevision</th>\n",
       "      <th></th>\n",
       "      <th></th>\n",
       "      <th></th>\n",
       "    </tr>\n",
       "  </thead>\n",
       "  <tbody>\n",
       "    <tr>\n",
       "      <th rowspan=\"5\" valign=\"top\">2012-06-10</th>\n",
       "      <th>2013-09-19</th>\n",
       "      <td>1</td>\n",
       "      <td>297.0</td>\n",
       "      <td>0.003367</td>\n",
       "    </tr>\n",
       "    <tr>\n",
       "      <th>2013-09-20</th>\n",
       "      <td>1</td>\n",
       "      <td>297.0</td>\n",
       "      <td>0.003367</td>\n",
       "    </tr>\n",
       "    <tr>\n",
       "      <th>2013-09-21</th>\n",
       "      <td>1</td>\n",
       "      <td>297.0</td>\n",
       "      <td>0.003367</td>\n",
       "    </tr>\n",
       "    <tr>\n",
       "      <th>2013-09-22</th>\n",
       "      <td>1</td>\n",
       "      <td>297.0</td>\n",
       "      <td>0.003367</td>\n",
       "    </tr>\n",
       "    <tr>\n",
       "      <th>2013-09-23</th>\n",
       "      <td>1</td>\n",
       "      <td>297.0</td>\n",
       "      <td>0.003367</td>\n",
       "    </tr>\n",
       "  </tbody>\n",
       "</table>\n",
       "</div>"
      ],
      "text/plain": [
       "                            Cantidad habitaciones  Habitaciones Hotel  \\\n",
       "Fecha foto Fecha prevision                                              \n",
       "2012-06-10 2013-09-19                           1               297.0   \n",
       "           2013-09-20                           1               297.0   \n",
       "           2013-09-21                           1               297.0   \n",
       "           2013-09-22                           1               297.0   \n",
       "           2013-09-23                           1               297.0   \n",
       "\n",
       "                            % Ocupacion  \n",
       "Fecha foto Fecha prevision               \n",
       "2012-06-10 2013-09-19          0.003367  \n",
       "           2013-09-20          0.003367  \n",
       "           2013-09-21          0.003367  \n",
       "           2013-09-22          0.003367  \n",
       "           2013-09-23          0.003367  "
      ]
     },
     "execution_count": 80,
     "metadata": {},
     "output_type": "execute_result"
    }
   ],
   "source": [
    "df[\"% Ocupacion\"] = df[\"Cantidad habitaciones\"] / df[\"Habitaciones Hotel\"]\n",
    "\n",
    "hotel_02 = df.loc[\"02\"]\n",
    "hotel_02.head()"
   ]
  },
  {
   "cell_type": "code",
   "execution_count": 81,
   "metadata": {},
   "outputs": [],
   "source": [
    "\n",
    "hotel_02_2019 = df.loc[(\"02\",slice(None), \"2019-07-01\")].reset_index()\n",
    "hotel_02_2018 = df.loc[(\"02\",slice(None), \"2018-07-01\")].reset_index()\n",
    "hotel_02_2017 = df.loc[(\"02\",slice(None), \"2017-07-01\")].reset_index()\n",
    "hotel_02_2016 = df.loc[(\"02\",slice(None), \"2016-07-01\")].reset_index()\n",
    "hotel_02_2015 = df.loc[(\"02\",slice(None), \"2015-07-01\")].reset_index()\n",
    "hotel_02_2014 = df.loc[(\"02\",slice(None), \"2014-07-01\")].reset_index()\n",
    "hotel_02_2013 = df.loc[(\"02\",slice(None), \"2013-07-01\")].reset_index()\n"
   ]
  },
  {
   "cell_type": "code",
   "execution_count": 82,
   "metadata": {},
   "outputs": [
    {
     "data": {
      "text/html": [
       "<div>\n",
       "<style scoped>\n",
       "    .dataframe tbody tr th:only-of-type {\n",
       "        vertical-align: middle;\n",
       "    }\n",
       "\n",
       "    .dataframe tbody tr th {\n",
       "        vertical-align: top;\n",
       "    }\n",
       "\n",
       "    .dataframe thead th {\n",
       "        text-align: right;\n",
       "    }\n",
       "</style>\n",
       "<table border=\"1\" class=\"dataframe\">\n",
       "  <thead>\n",
       "    <tr style=\"text-align: right;\">\n",
       "      <th></th>\n",
       "      <th>Hotel</th>\n",
       "      <th>Fecha foto</th>\n",
       "      <th>Fecha prevision</th>\n",
       "      <th>Cantidad habitaciones</th>\n",
       "      <th>Habitaciones Hotel</th>\n",
       "      <th>% Ocupacion</th>\n",
       "    </tr>\n",
       "  </thead>\n",
       "  <tbody>\n",
       "    <tr>\n",
       "      <th>0</th>\n",
       "      <td>02</td>\n",
       "      <td>2013-10-03</td>\n",
       "      <td>2014-07-01</td>\n",
       "      <td>1</td>\n",
       "      <td>297.0</td>\n",
       "      <td>0.003367</td>\n",
       "    </tr>\n",
       "    <tr>\n",
       "      <th>1</th>\n",
       "      <td>02</td>\n",
       "      <td>2013-10-04</td>\n",
       "      <td>2014-07-01</td>\n",
       "      <td>1</td>\n",
       "      <td>297.0</td>\n",
       "      <td>0.003367</td>\n",
       "    </tr>\n",
       "    <tr>\n",
       "      <th>2</th>\n",
       "      <td>02</td>\n",
       "      <td>2013-10-05</td>\n",
       "      <td>2014-07-01</td>\n",
       "      <td>1</td>\n",
       "      <td>297.0</td>\n",
       "      <td>0.003367</td>\n",
       "    </tr>\n",
       "    <tr>\n",
       "      <th>3</th>\n",
       "      <td>02</td>\n",
       "      <td>2013-10-06</td>\n",
       "      <td>2014-07-01</td>\n",
       "      <td>1</td>\n",
       "      <td>297.0</td>\n",
       "      <td>0.003367</td>\n",
       "    </tr>\n",
       "    <tr>\n",
       "      <th>4</th>\n",
       "      <td>02</td>\n",
       "      <td>2013-10-07</td>\n",
       "      <td>2014-07-01</td>\n",
       "      <td>1</td>\n",
       "      <td>297.0</td>\n",
       "      <td>0.003367</td>\n",
       "    </tr>\n",
       "  </tbody>\n",
       "</table>\n",
       "</div>"
      ],
      "text/plain": [
       "  Hotel Fecha foto Fecha prevision  Cantidad habitaciones  Habitaciones Hotel  \\\n",
       "0    02 2013-10-03      2014-07-01                      1               297.0   \n",
       "1    02 2013-10-04      2014-07-01                      1               297.0   \n",
       "2    02 2013-10-05      2014-07-01                      1               297.0   \n",
       "3    02 2013-10-06      2014-07-01                      1               297.0   \n",
       "4    02 2013-10-07      2014-07-01                      1               297.0   \n",
       "\n",
       "   % Ocupacion  \n",
       "0     0.003367  \n",
       "1     0.003367  \n",
       "2     0.003367  \n",
       "3     0.003367  \n",
       "4     0.003367  "
      ]
     },
     "execution_count": 82,
     "metadata": {},
     "output_type": "execute_result"
    }
   ],
   "source": [
    "\n",
    "hotel_02_2014.head()"
   ]
  },
  {
   "cell_type": "code",
   "execution_count": 83,
   "metadata": {},
   "outputs": [],
   "source": [
    "\n",
    "# Create a TimeSeries, specifying the time and value columns\n",
    "series_hotel_02_2019 = TimeSeries.from_dataframe(hotel_02_2019, \"Fecha foto\", \"% Ocupacion\")\n",
    "series_hotel_02_2018 = TimeSeries.from_dataframe(hotel_02_2018, \"Fecha foto\", \"% Ocupacion\")\n",
    "series_hotel_02_2017 = TimeSeries.from_dataframe(hotel_02_2017, \"Fecha foto\", \"% Ocupacion\")\n",
    "series_hotel_02_2016 = TimeSeries.from_dataframe(hotel_02_2016, \"Fecha foto\", \"% Ocupacion\")\n",
    "series_hotel_02_2015 = TimeSeries.from_dataframe(hotel_02_2015, \"Fecha foto\", \"% Ocupacion\")\n",
    "series_hotel_02_2014 = TimeSeries.from_dataframe(hotel_02_2014, \"Fecha foto\", \"% Ocupacion\")\n",
    "series_hotel_02_2013 = TimeSeries.from_dataframe(hotel_02_2013, \"Fecha foto\", \"% Ocupacion\")\n",
    "\n",
    "# Set aside the last 36 months as a validation series\n",
    "train_hotel_02_2019, val_hotel_02_2019 = series_hotel_02_2019[:-36], series_hotel_02_2019[-36:]\n",
    "train_hotel_02_2018, val_hotel_02_2018 = series_hotel_02_2018[:-36], series_hotel_02_2018[-36:]\n",
    "train_hotel_02_2017, val_hotel_02_2017 = series_hotel_02_2017[:-36], series_hotel_02_2017[-36:]\n",
    "train_hotel_02_2016, val_hotel_02_2016 = series_hotel_02_2016[:-36], series_hotel_02_2016[-36:]\n",
    "train_hotel_02_2015, val_hotel_02_2015 = series_hotel_02_2015[:-36], series_hotel_02_2015[-36:]\n",
    "train_hotel_02_2014, val_hotel_02_2014 = series_hotel_02_2014[:-36], series_hotel_02_2014[-36:]\n",
    "train_hotel_02_2013, val_hotel_02_2013 = series_hotel_02_2013[:-36], series_hotel_02_2013[-36:]"
   ]
  },
  {
   "cell_type": "code",
   "execution_count": 86,
   "metadata": {},
   "outputs": [],
   "source": [
    "model_hotel_02 = NBEATSModel(input_chunk_length=24, output_chunk_length=12, n_epochs=100, random_state=0)"
   ]
  },
  {
   "cell_type": "code",
   "execution_count": 87,
   "metadata": {},
   "outputs": [
    {
     "name": "stderr",
     "output_type": "stream",
     "text": [
      "[2022-01-22 21:10:22,547] INFO | darts.models.forecasting.torch_forecasting_model | Train dataset contains 558 samples.\n",
      "[2022-01-22 21:10:22,547] INFO | darts.models.forecasting.torch_forecasting_model | Train dataset contains 558 samples.\n",
      "[2022-01-22 21:10:23,262] INFO | darts.models.forecasting.torch_forecasting_model | Time series values are 64-bits; casting model to float64.\n",
      "[2022-01-22 21:10:23,262] INFO | darts.models.forecasting.torch_forecasting_model | Time series values are 64-bits; casting model to float64.\n"
     ]
    },
    {
     "data": {
      "application/vnd.jupyter.widget-view+json": {
       "model_id": "04014ecf278e43b9ab1d667161b30e3e",
       "version_major": 2,
       "version_minor": 0
      },
      "text/plain": [
       "  0%|          | 0/100 [00:00<?, ?it/s]"
      ]
     },
     "metadata": {},
     "output_type": "display_data"
    },
    {
     "name": "stdout",
     "output_type": "stream",
     "text": [
      "Training loss: 0.0002\r"
     ]
    }
   ],
   "source": [
    "# model_hotel_02.fit([train_hotel_02_2019, train_hotel_02_2018, train_hotel_02_2017, train_hotel_02_2016, train_hotel_02_2015, train_hotel_02_2014, train_hotel_02_2013], verbose=True)\n",
    "model_hotel_02.fit([train_hotel_02_2019, train_hotel_02_2018], verbose=True)"
   ]
  },
  {
   "cell_type": "code",
   "execution_count": 88,
   "metadata": {},
   "outputs": [
    {
     "name": "stdout",
     "output_type": "stream",
     "text": [
      "MAPE = 8.28%\n"
     ]
    },
    {
     "data": {
      "image/png": "[encoded data removed]",
      "text/plain": [
       "<Figure size 432x288 with 1 Axes>"
      ]
     },
     "metadata": {
      "needs_background": "light"
     },
     "output_type": "display_data"
    }
   ],
   "source": [
    "pred = model_hotel_02.predict(n=36, series=train_hotel_02_2019)\n",
    "\n",
    "series_hotel_02_2019 .plot(label='actual')\n",
    "pred.plot(label='forecast')\n",
    "plt.legend();\n",
    "print('MAPE = {:.2f}%'.format(mape(series_hotel_02_2019, pred)))"
   ]
  },
  {
   "cell_type": "code",
   "execution_count": 89,
   "metadata": {},
   "outputs": [],
   "source": [
    "from darts.models import ExponentialSmoothing\n",
    "\n",
    "model = ExponentialSmoothing()\n",
    "model.fit(train_hotel_02_2019)\n",
    "prediction = model.predict(len(val_hotel_02_2019), num_samples=1000)"
   ]
  },
  {
   "cell_type": "code",
   "execution_count": 90,
   "metadata": {},
   "outputs": [
    {
     "data": {
      "image/png": "[encoded data removed]",
      "text/plain": [
       "<Figure size 432x288 with 1 Axes>"
      ]
     },
     "metadata": {
      "needs_background": "light"
     },
     "output_type": "display_data"
    }
   ],
   "source": [
    "import matplotlib.pyplot as plt\n",
    "\n",
    "series_hotel_02_2019.plot()\n",
    "prediction.plot(label='forecast', low_quantile=0.05, high_quantile=0.95)\n",
    "plt.legend();\n",
    "print('MAPE = {:.2f}%'.format(mape(series_hotel_02_2019, pred)))"
   ]
  }
 ],
 "metadata": {
  "interpreter": {
   "hash": "fd805c183e6d02ab737a173673e4517893d2a30528e63f735fc80f3414e5cfc0"
  },
  "kernelspec": {
   "display_name": "Python 3.7.11 64-bit ('darts': conda)",
   "language": "python",
   "name": "python3"
  },
  "language_info": {
   "codemirror_mode": {
    "name": "ipython",
    "version": 3
   },
   "file_extension": ".py",
   "mimetype": "text/x-python",
   "name": "python",
   "nbconvert_exporter": "python",
   "pygments_lexer": "ipython3",
   "version": "3.7.11"
  },
  "orig_nbformat": 4
 },
 "nbformat": 4,
 "nbformat_minor": 2
}
