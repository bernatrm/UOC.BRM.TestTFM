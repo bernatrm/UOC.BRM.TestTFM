{
 "cells": [
  {
   "cell_type": "markdown",
   "metadata": {},
   "source": []
  },
  {
   "cell_type": "markdown",
   "metadata": {},
   "source": [
    "# Generamos Fotos a partir de los datos históricos\n",
    "Importamos las librerias necesarias"
   ]
  },
  {
   "cell_type": "code",
   "execution_count": 1,
   "metadata": {},
   "outputs": [],
   "source": [
    "import os\n",
    "import pandas as pd\n",
    "\n",
    "import tfm_helpers as tfm\n",
    "\n",
    "pd.set_option(\"display.max_columns\", None)"
   ]
  },
  {
   "cell_type": "markdown",
   "metadata": {},
   "source": [
    "_Definiciones de ficheros_\n",
    "* Hoteles"
   ]
  },
  {
   "cell_type": "code",
   "execution_count": 3,
   "metadata": {},
   "outputs": [],
   "source": [
    "hoteles = [\"02\", \"04\", \"05\", \"15\", \"16\", \"21\", \"22\"]\n",
    "\n",
    "data_source_path = r\"C:\\Datos\\UOC\\OneDrive - Universitat Oberta de Catalunya\\TFM\\Datos\"\n"
   ]
  },
  {
   "cell_type": "markdown",
   "metadata": {},
   "source": [
    "* Reservas"
   ]
  },
  {
   "cell_type": "code",
   "execution_count": 4,
   "metadata": {},
   "outputs": [],
   "source": [
    "reservas_dtypes = {\n",
    "    \"Hotel\" : str,\n",
    "    \"Cliente\" : str,\n",
    "    \"TTOO\" : str,\n",
    "    \"Agencia\" : str,\n",
    "    \"Noches\" : int,\n",
    "    \"Cantidad habitaciones\" : int,\n",
    "    \"Nacionalidad\" : str,\n",
    "    \"Régimen factura\" : str,\n",
    "    \"Tipo facturación estancia\" : str,\n",
    "    \"Estado reserva\" : str,\n",
    "    \"Desglosada\" : int,\n",
    "    \"Usuario venta\" : str,\n",
    "    \"Usuario Borrado\" : str,\n",
    "    \"Day Use\" : int,\n",
    "    \"Grupo\" : str,\n",
    "    \"Master del grupo\" : int,\n",
    "    \"Canal_Origen\" : str,\n",
    "    \"Segmento\" : str,\n",
    "    \"Régimen uso\" : str,\n",
    "    \"Canal_Origen Aux\" : str,\n",
    "    \"Id Reserva\" : str,\n",
    "    \"Id Tipo habitacion uso\" : str,\n",
    "    \"Id Tipo habitacion factura\" : str\n",
    "}\n",
    "\n",
    "reservas_parse_dates = [\n",
    "    \"Fecha venta\", \n",
    "    \"Fecha entrada\", \n",
    "    \"Fecha salida\",\n",
    "    \"Fecha Borrado\"\n",
    "]\n",
    "\n",
    "reservas_cols = list(reservas_dtypes.keys()) + reservas_parse_dates + [\"AD\", \"JR\", \"NI\", \"CU\"]\n",
    "\n"
   ]
  },
  {
   "cell_type": "markdown",
   "metadata": {},
   "source": [
    "* Reservas Diarias"
   ]
  },
  {
   "cell_type": "code",
   "execution_count": 5,
   "metadata": {},
   "outputs": [],
   "source": [
    "reservas_diarias_dtypes = {\n",
    "    \"Hotel\" : str,\n",
    "    \"Régimen factura\" : str,\n",
    "    \"Estado reserva\" : str,\n",
    "    \"Régimen uso\" : str,\n",
    "    \"Day Use\" : int,\n",
    "    \"Canal_Origen\" : str,\n",
    "    \"Segmento\" : str,\n",
    "    \"Id Reserva\" : str,\n",
    "    \"Id Tipo habitacion uso\" : str,\n",
    "    \"Id Tipo habitacion factura\" : str,\n",
    "    \"Id Habitacion\" : str\n",
    "}\n",
    "\n",
    "reservas_diarias_parse_dates = [\"Fecha\"]\n",
    "\n",
    "reservas_diarias_cols = list(reservas_diarias_dtypes.keys()) + reservas_diarias_parse_dates + [\"Ocupación\", \"AD\", \"JR\", \"NI\", \"CU\"]"
   ]
  },
  {
   "cell_type": "markdown",
   "metadata": {},
   "source": [
    "Creamos funciones de uso genérico a lo largo del script"
   ]
  },
  {
   "cell_type": "markdown",
   "metadata": {},
   "source": [
    "El proceso sigue el siguiente algoritmo:\n",
    "* Cargar todas las Reservas de un hotel en un DataSet\n",
    "* Empezar a generar fotos para cada día desde la primera fecha de venta que tengamos\n",
    "\t* Para cada día desde MinFechaVenta hasta MaxFechaVenta\n",
    "\t\t* Filtrar Para cada Fecha en Lista\n",
    "\t\t\t* FechaVenta <= Fecha y FechaBorrado >= Fecha y Estado En Reserva, Entrada, Salida\n",
    "\t\t\t\t* Generar un fichero para ese día con todos los datos\n",
    "\t\t\t\t\n",
    "_Unificamos las Reservas_"
   ]
  },
  {
   "cell_type": "code",
   "execution_count": 21,
   "metadata": {},
   "outputs": [],
   "source": [
    "for hotel in hoteles:   \n",
    "    files = tfm.getListOfFiles(tfm.getSourcePathToHistoricalReservasHotel(data_source_path, hotel))\n",
    "\n",
    "    all_years_reservas_hotel = pd.DataFrame()\n",
    "    for file in files:   \n",
    "        current_data = pd.read_csv(\n",
    "                                    file, \n",
    "                                    sep=\"|\", \n",
    "                                    escapechar=\"~\",\n",
    "                                    encoding=\"cp1252\", \n",
    "                                    on_bad_lines=\"skip\", \n",
    "                                    encoding_errors=\"ignore\",\n",
    "                                    quoting=3,\n",
    "                                    usecols=reservas_cols,\n",
    "                                    dtype=reservas_dtypes, \n",
    "                                    parse_dates=reservas_parse_dates,\n",
    "                                    converters={\"AD\":tfm.to_integer, \"JR\":tfm.to_integer, \"NI\":tfm.to_integer, \"CU\":tfm.to_integer}                                \n",
    "                                )\n",
    "        all_years_reservas_hotel = pd.concat([all_years_reservas_hotel, current_data], ignore_index=True)\n",
    "    \n",
    "    all_years_reservas_hotel.to_csv(tfm.getPathToProcessedHistoricalReservasHotel(hotel, \"csv\"), index=False, sep=\"|\", escapechar=\"~\", encoding=\"cp1252\")\n",
    "    all_years_reservas_hotel.to_parquet(tfm.getPathToProcessedHistoricalReservasHotel(hotel, \"parquet\"), index=False)"
   ]
  },
  {
   "cell_type": "markdown",
   "metadata": {},
   "source": [
    "_Unificamos las Reservas Diarias_"
   ]
  },
  {
   "cell_type": "code",
   "execution_count": 6,
   "metadata": {},
   "outputs": [],
   "source": [
    "for hotel in hoteles: \n",
    "    files = tfm.getListOfFiles(tfm.getSourcePathToHistoricalReservasDiariasHotel(data_source_path, hotel))\n",
    "\n",
    "    all_years_reservas_diarias = pd.DataFrame()\n",
    "    for file in files:\n",
    "        current_data = pd.read_csv(\n",
    "                                    file, \n",
    "                                    sep=\"|\", \n",
    "                                    escapechar=\"~\",\n",
    "                                    encoding=\"cp1252\", \n",
    "                                    on_bad_lines=\"skip\", \n",
    "                                    encoding_errors=\"ignore\",\n",
    "                                    quoting=3,\n",
    "                                    usecols=reservas_diarias_cols,\n",
    "                                    dtype=reservas_diarias_dtypes, \n",
    "                                    parse_dates=reservas_diarias_parse_dates, \n",
    "                                    converters={\"Ocupación\":tfm.to_integer, \"AD\":tfm.to_integer, \"JR\":tfm.to_integer, \"NI\":tfm.to_integer, \"CU\":tfm.to_integer} \n",
    "                                )\n",
    "        all_years_reservas_diarias = pd.concat([all_years_reservas_diarias, current_data], ignore_index=True)\n",
    "        \n",
    "    all_years_reservas_diarias.to_csv(tfm.getPathToProcessedHistoricalReservasDiariasHotel(hotel, \"csv\"), index=False, sep=\"|\", escapechar=\"~\", encoding=\"cp1252\")\n",
    "    all_years_reservas_diarias.to_parquet(tfm.getPathToProcessedHistoricalReservasDiariasHotel(hotel, \"parquet\"), index=False)"
   ]
  }
 ],
 "metadata": {
  "interpreter": {
   "hash": "860b348086a80f2d356ac41d9d8bc31c52118c4b4398bc13c66f3c8597edd0b4"
  },
  "kernelspec": {
   "display_name": "Python (TestTFM)",
   "language": "python",
   "name": "python3"
  },
  "language_info": {
   "codemirror_mode": {
    "name": "ipython",
    "version": 3
   },
   "file_extension": ".py",
   "mimetype": "text/x-python",
   "name": "python",
   "nbconvert_exporter": "python",
   "pygments_lexer": "ipython3",
   "version": "3.7.11"
  }
 },
 "nbformat": 4,
 "nbformat_minor": 2
}
