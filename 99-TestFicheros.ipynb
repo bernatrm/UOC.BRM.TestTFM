{
 "cells": [
  {
   "cell_type": "markdown",
   "metadata": {},
   "source": [
    "# Generamos Foto Previsión desde Fotos Histórico\n",
    "\n",
    "_Importación de librerias_"
   ]
  },
  {
   "cell_type": "code",
   "execution_count": 6,
   "metadata": {},
   "outputs": [],
   "source": [
    "import pandas as pd\n",
    "import tfm_helpers as tfm\n",
    "\n",
    "pd.set_option(\"display.max_columns\", None)"
   ]
  },
  {
   "cell_type": "markdown",
   "metadata": {},
   "source": [
    "Procesamos los ficheros para generar previsiones agrupadas por año"
   ]
  },
  {
   "cell_type": "code",
   "execution_count": 7,
   "metadata": {},
   "outputs": [],
   "source": [
    "year = \"2099\"\n",
    "file = r\"data\\processed\\snapshots\\reservas\\parquet\\2007\\07\\20070701_reservas.parquet\"\n"
   ]
  },
  {
   "cell_type": "code",
   "execution_count": 15,
   "metadata": {},
   "outputs": [],
   "source": [
    "\n",
    "current_snapshot_data = pd.read_parquet(file, columns=[\"Hotel\", \"Fecha venta\", \"Fecha entrada\", \"Fecha salida\", \"Noches\", \"Cantidad habitaciones\", \"Estado reserva\", \"Fecha Borrado\", \"Días Anticipación\", \"Fecha foto\"])\n",
    "current_snapshot_data.reset_index(inplace=True)\n",
    "current_snapshot_data[\"Hotel\"] = current_snapshot_data.Hotel.astype(\"category\")\n",
    "current_snapshot_data[\"Estado reserva\"] = current_snapshot_data[\"Estado reserva\"].astype(\"category\")\n",
    "current_snapshot_data.memory_usage(deep=True)\n",
    "\n",
    "filtro_reservas_activas = ((current_snapshot_data[\"Estado reserva\"] == \"Reserva\") | (current_snapshot_data[\"Estado reserva\"] == \"Entrada\"))\n",
    "current_snapshot_data = current_snapshot_data[filtro_reservas_activas]\n",
    " \n",
    "fecha_foto = current_snapshot_data[\"Fecha foto\"].min()\n",
    "\n",
    "current_snapshot_data[\"Fecha inicio\"] = current_snapshot_data[\"Fecha entrada\"].apply(lambda x : x if x > fecha_foto else fecha_foto)\n",
    "\n",
    "current_snapshot_data[\"Fecha prevision\"] = [pd.date_range(entrada, salida, freq=\"d\", closed=\"left\") for entrada, salida in \n",
    "                                                zip(pd.to_datetime(current_snapshot_data[\"Fecha inicio\"]), \n",
    "                                                    pd.to_datetime(current_snapshot_data[\"Fecha salida\"]))]\n",
    "m\n",
    "\n",
    "current_snapshot_data = current_snapshot_data.explode(\"Fecha prevision\")\n",
    " "
   ]
  },
  {
   "cell_type": "code",
   "execution_count": 16,
   "metadata": {},
   "outputs": [
    {
     "data": {
      "text/html": [
       "<div>\n",
       "<style scoped>\n",
       "    .dataframe tbody tr th:only-of-type {\n",
       "        vertical-align: middle;\n",
       "    }\n",
       "\n",
       "    .dataframe tbody tr th {\n",
       "        vertical-align: top;\n",
       "    }\n",
       "\n",
       "    .dataframe thead th {\n",
       "        text-align: right;\n",
       "    }\n",
       "</style>\n",
       "<table border=\"1\" class=\"dataframe\">\n",
       "  <thead>\n",
       "    <tr style=\"text-align: right;\">\n",
       "      <th></th>\n",
       "      <th>Id Reserva</th>\n",
       "      <th>Hotel</th>\n",
       "      <th>Fecha venta</th>\n",
       "      <th>Fecha entrada</th>\n",
       "      <th>Fecha salida</th>\n",
       "      <th>Noches</th>\n",
       "      <th>Cantidad habitaciones</th>\n",
       "      <th>Estado reserva</th>\n",
       "      <th>Fecha Borrado</th>\n",
       "      <th>Días Anticipación</th>\n",
       "      <th>Fecha foto</th>\n",
       "      <th>Fecha prevision</th>\n",
       "    </tr>\n",
       "  </thead>\n",
       "  <tbody>\n",
       "    <tr>\n",
       "      <th>6</th>\n",
       "      <td>04-2007-2009-1</td>\n",
       "      <td>04</td>\n",
       "      <td>2007-05-19</td>\n",
       "      <td>2007-06-26</td>\n",
       "      <td>2007-07-03</td>\n",
       "      <td>7</td>\n",
       "      <td>1</td>\n",
       "      <td>Entrada</td>\n",
       "      <td>1753-01-01</td>\n",
       "      <td>38</td>\n",
       "      <td>2007-07-01</td>\n",
       "      <td>2007-07-01</td>\n",
       "    </tr>\n",
       "    <tr>\n",
       "      <th>6</th>\n",
       "      <td>04-2007-2009-1</td>\n",
       "      <td>04</td>\n",
       "      <td>2007-05-19</td>\n",
       "      <td>2007-06-26</td>\n",
       "      <td>2007-07-03</td>\n",
       "      <td>7</td>\n",
       "      <td>1</td>\n",
       "      <td>Entrada</td>\n",
       "      <td>1753-01-01</td>\n",
       "      <td>38</td>\n",
       "      <td>2007-07-01</td>\n",
       "      <td>2007-07-02</td>\n",
       "    </tr>\n",
       "  </tbody>\n",
       "</table>\n",
       "</div>"
      ],
      "text/plain": [
       "       Id Reserva Hotel Fecha venta Fecha entrada Fecha salida  Noches  \\\n",
       "6  04-2007-2009-1    04  2007-05-19    2007-06-26   2007-07-03       7   \n",
       "6  04-2007-2009-1    04  2007-05-19    2007-06-26   2007-07-03       7   \n",
       "\n",
       "   Cantidad habitaciones Estado reserva Fecha Borrado  Días Anticipación  \\\n",
       "6                      1        Entrada    1753-01-01                 38   \n",
       "6                      1        Entrada    1753-01-01                 38   \n",
       "\n",
       "  Fecha foto Fecha prevision  \n",
       "6 2007-07-01      2007-07-01  \n",
       "6 2007-07-01      2007-07-02  "
      ]
     },
     "execution_count": 16,
     "metadata": {},
     "output_type": "execute_result"
    }
   ],
   "source": [
    "current_snapshot_data[current_snapshot_data[\"Id Reserva\"] == \"04-2007-2009-1\"].head(50)"
   ]
  },
  {
   "cell_type": "code",
   "execution_count": null,
   "metadata": {},
   "outputs": [],
   "source": [
    "\n",
    "result_ocupacion_data = pd.DataFrame()\n",
    "result_ocupacion_data = pd.concat([result_ocupacion_data, current_snapshot_data]) \n",
    "\n",
    "result_ocupacion_data.set_index([\"Hotel\", \"Fecha prevision\", \"Fecha foto\"], inplace=True)\n",
    "result_ocupacion_data.sort_index(inplace=True)\n"
   ]
  },
  {
   "cell_type": "code",
   "execution_count": null,
   "metadata": {},
   "outputs": [],
   "source": [
    "result_ocupacion_data.info(memory_usage=\"deep\")\n"
   ]
  },
  {
   "cell_type": "code",
   "execution_count": null,
   "metadata": {},
   "outputs": [],
   "source": [
    "# result_ocupacion_data.to_parquet(tfm.getPathToProcessedSnapshotOcupacion(\"parquet\", year), index=True)\n",
    "# result_ocupacion_data.to_csv(tfm.getPathToProcessedSnapshotOcupacion(\"csv\", year), index=True, sep=\"|\", escapechar=\"~\", encoding=\"cp1252\")"
   ]
  }
 ],
 "metadata": {
  "interpreter": {
   "hash": "fd805c183e6d02ab737a173673e4517893d2a30528e63f735fc80f3414e5cfc0"
  },
  "kernelspec": {
   "display_name": "Python 3.7.11 64-bit ('darts': conda)",
   "language": "python",
   "name": "python3"
  },
  "language_info": {
   "codemirror_mode": {
    "name": "ipython",
    "version": 3
   },
   "file_extension": ".py",
   "mimetype": "text/x-python",
   "name": "python",
   "nbconvert_exporter": "python",
   "pygments_lexer": "ipython3",
   "version": "3.7.11"
  },
  "orig_nbformat": 4
 },
 "nbformat": 4,
 "nbformat_minor": 2
}
