{
 "cells": [
  {
   "cell_type": "markdown",
   "metadata": {},
   "source": []
  },
  {
   "cell_type": "markdown",
   "metadata": {},
   "source": [
    "# Generamos Fotos a partir de los datos históricos\n",
    "Importamos las librerias necesarias"
   ]
  },
  {
   "cell_type": "code",
   "execution_count": 74,
   "metadata": {},
   "outputs": [],
   "source": [
    "import os\n",
    "import pandas as pd\n"
   ]
  },
  {
   "cell_type": "markdown",
   "metadata": {},
   "source": [
    "_Definiciones de ficheros_"
   ]
  },
  {
   "cell_type": "code",
   "execution_count": 83,
   "metadata": {},
   "outputs": [],
   "source": [
    "\n",
    "# reservas_source_path = r\"C:\\Datos\\UOC\\OneDrive - Universitat Oberta de Catalunya\\TFM\\Datos\\Historicos\\Reservas\\02\\2014\\07\"  # primero intentamos con un mes concreta\n",
    "reservas_source_path = r\"C:\\Datos\\UOC\\OneDrive - Universitat Oberta de Catalunya\\TFM\\Datos\\Historicos\\Reservas\" # segundo continuamos con todos los ficheros de un directorio\n",
    "reservas_dtypes = {\n",
    "    \"Hotel\" : str,\n",
    "    \"Cliente\" : str,\n",
    "    \"TTOO\" : str,\n",
    "    \"Agencia\" : str,\n",
    "    \"Noches\" : int,\n",
    "    \"Cantidad habitaciones\" : int,\n",
    "    \"Nacionalidad\" : str,\n",
    "    \"Régimen factura\" : str,\n",
    "    \"Tipo facturación estancia\" : str,\n",
    "    \"Estado reserva\" : str,\n",
    "    \"Desglosada\" : int,\n",
    "    \"Usuario venta\" : str,\n",
    "    \"Usuario Borrado\" : str,\n",
    "    \"Day Use\" : int,\n",
    "    \"Grupo\" : str,\n",
    "    \"Master del grupo\" : int,\n",
    "    \"Canal_Origen\" : str,\n",
    "    \"Segmento\" : str,\n",
    "    \"Régimen uso\" : str,\n",
    "    \"Canal_Origen Aux\" : str,\n",
    "    \"Id Reserva\" : str,\n",
    "    \"Id Tipo habitacion uso\" : str,\n",
    "    \"Id Tipo habitacion factura\" : str\n",
    "}\n",
    "reservas_parse_dates = [\n",
    "    \"Fecha venta\", \n",
    "    \"Fecha entrada\", \n",
    "    \"Fecha salida\",\n",
    "    \"Fecha Borrado\"\n",
    "]\n",
    "\n",
    "reservas_cols = list(reservas_dtypes.keys()) + reservas_parse_dates + [\"AD\", \"JR\", \"NI\", \"CU\"]\n",
    "\n",
    "# reservas_diarias_source_path = r\"C:\\Datos\\UOC\\OneDrive - Universitat Oberta de Catalunya\\TFM\\Datos\\Historicos\\ReservasDiarias\\02\\2014\\08\" # segundo continuamos con todos los ficheros de un directorio\n",
    "reservas_diarias_source_path = r\"C:\\Datos\\UOC\\OneDrive - Universitat Oberta de Catalunya\\TFM\\Datos\\Historicos\\ReservasDiarias\" # segundo continuamos con todos los ficheros de un directorio\n",
    "reservas_diarias_dtypes = {\n",
    "    \"Hotel\" : str,\n",
    "    \"Régimen factura\" : str,\n",
    "    \"Estado reserva\" : str,\n",
    "    \"Régimen uso\" : str,\n",
    "    \"Day Use\" : int,\n",
    "    \"Canal_Origen\" : str,\n",
    "    \"Segmento\" : str,\n",
    "    \"Id Reserva\" : str,\n",
    "    \"Id Tipo habitacion uso\" : str,\n",
    "    \"Id Tipo habitacion factura\" : str,\n",
    "    \"Id Habitacion\" : str\n",
    "}\n",
    "\n",
    "reservas_diarias_parse_dates = [\"Fecha\"]\n",
    "\n",
    "reservas_diarias_cols = list(reservas_diarias_dtypes.keys()) + reservas_diarias_parse_dates + [\"Ocupación\", \"AD\", \"JR\", \"NI\", \"CU\"]\n"
   ]
  },
  {
   "cell_type": "markdown",
   "metadata": {},
   "source": [
    "Creamos funciones de uso genérico a lo largo del script"
   ]
  },
  {
   "cell_type": "code",
   "execution_count": 80,
   "metadata": {},
   "outputs": [],
   "source": [
    "def getListOfFiles(path:str) -> list:\n",
    "    \"\"\"Get the list of all files in directory tree at given path\"\"\"\n",
    "    listOfFiles = list()\n",
    "    for (dirpath, dirnames, filenames) in os.walk(path):\n",
    "        listOfFiles += [os.path.join(dirpath, file) for file in filenames]\n",
    "\n",
    "    return listOfFiles\n",
    "\n",
    "to_integer = lambda i: (int(float(i)))\n"
   ]
  },
  {
   "cell_type": "markdown",
   "metadata": {},
   "source": [
    "El proceso sigue el siguiente algoritmo:\n",
    "* Cargar todas las Reservas de un hotel en un DataSet\n",
    "* Empezar a generar fotos para cada día desde la primera fecha de venta que tengamos\n",
    "\t* Para cada día desde MinFechaVenta hasta MaxFechaVenta\n",
    "\t\t* Filtrar Para cada Fecha en Lista\n",
    "\t\t\t* FechaVenta <= Fecha y FechaBorrado >= Fecha y Estado En Reserva, Entrada, Salida\n",
    "\t\t\t\t* Generar un fichero para ese día con todos los datos\n",
    "\t\t\t\t\n",
    "_Unificamos las Reservas_"
   ]
  },
  {
   "cell_type": "code",
   "execution_count": 78,
   "metadata": {},
   "outputs": [],
   "source": [
    "files = getListOfFiles(reservas_source_path)\n",
    "\n",
    "all_years_reservas = pd.DataFrame()\n",
    "for file in files:   \n",
    "    current_data = pd.read_csv(\n",
    "                                file, \n",
    "                                sep=\"|\", \n",
    "                                escapechar=\"~\",\n",
    "                                encoding=\"cp1252\", \n",
    "                                on_bad_lines=\"skip\", \n",
    "                                encoding_errors=\"ignore\",\n",
    "                                quoting=3,\n",
    "                                usecols=reservas_cols,\n",
    "                                dtype=reservas_dtypes, \n",
    "                                parse_dates=reservas_parse_dates,\n",
    "                                converters={\"AD\":to_integer, \"JR\":to_integer, \"NI\":to_integer, \"CU\":to_integer}                                \n",
    "                            )\n",
    "    all_years_reservas = pd.concat([all_years_reservas, current_data], ignore_index=True)\n",
    "   \n",
    "all_years_reservas.to_csv(\"data/processed/all_data_historico_reservas.csv\", index=False, sep=\"|\", escapechar=\"~\", encoding=\"cp1252\")\n",
    "all_years_reservas.to_parquet(\"data/processed/all_data_historico_reservas.parquet\", index=False)"
   ]
  },
  {
   "cell_type": "markdown",
   "metadata": {},
   "source": [
    "_Unificamos las Reservas Diarias_"
   ]
  },
  {
   "cell_type": "code",
   "execution_count": 84,
   "metadata": {},
   "outputs": [],
   "source": [
    "files = getListOfFiles(reservas_diarias_source_path)\n",
    "\n",
    "all_years_reservas_diarias = pd.DataFrame()\n",
    "for file in files:\n",
    "    current_data = pd.read_csv(\n",
    "                                file, \n",
    "                                sep=\"|\", \n",
    "                                escapechar=\"~\",\n",
    "                                encoding=\"cp1252\", \n",
    "                                on_bad_lines=\"skip\", \n",
    "                                encoding_errors=\"ignore\",\n",
    "                                quoting=3,\n",
    "                                usecols=reservas_diarias_cols,\n",
    "                                dtype=reservas_diarias_dtypes, \n",
    "                                parse_dates=reservas_diarias_parse_dates, \n",
    "                                converters={\"Ocupación\":to_integer, \"AD\":to_integer, \"JR\":to_integer, \"NI\":to_integer, \"CU\":to_integer} \n",
    "                            )\n",
    "    all_years_reservas_diarias = pd.concat([all_years_reservas_diarias, current_data], ignore_index=True)\n",
    "    \n",
    "all_years_reservas_diarias.to_csv(\"data/processed/all_data_historico_reservas_diarias.csv\", index=False, sep=\"|\", escapechar=\"~\", encoding=\"cp1252\")\n",
    "all_years_reservas_diarias.to_parquet(\"data/processed/all_data_historico_reservas_diarias.parquet\", index=False)"
   ]
  }
 ],
 "metadata": {
  "interpreter": {
   "hash": "860b348086a80f2d356ac41d9d8bc31c52118c4b4398bc13c66f3c8597edd0b4"
  },
  "kernelspec": {
   "display_name": "Python (TestTFM)",
   "language": "python",
   "name": "python3"
  },
  "language_info": {
   "codemirror_mode": {
    "name": "ipython",
    "version": 3
   },
   "file_extension": ".py",
   "mimetype": "text/x-python",
   "name": "python",
   "nbconvert_exporter": "python",
   "pygments_lexer": "ipython3",
   "version": "3.7.11"
  }
 },
 "nbformat": 4,
 "nbformat_minor": 2
}
