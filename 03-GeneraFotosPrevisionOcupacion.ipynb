{
 "cells": [
  {
   "cell_type": "markdown",
   "metadata": {},
   "source": [
    "# Generamos Foto Previsión desde Fotos Histórico\n",
    "\n",
    "_Importación de librerias_"
   ]
  },
  {
   "cell_type": "code",
   "execution_count": 2,
   "metadata": {},
   "outputs": [],
   "source": [
    "import pandas as pd\n",
    "import tfm_helpers as tfm\n",
    "\n",
    "pd.set_option(\"display.max_columns\", None)"
   ]
  },
  {
   "cell_type": "markdown",
   "metadata": {},
   "source": [
    "Procesamos los ficheros para generar previsiones agrupadas por año"
   ]
  },
  {
   "cell_type": "code",
   "execution_count": 3,
   "metadata": {},
   "outputs": [],
   "source": [
    "# # years_to_process = [\"2005\", \"2006\", \"2007\", \"2008\", \"2009\", \"2010\", \"2011\", \"2012\", \"2013\", \"2014\", \"2015\", \"2016\", \"2017\", \"2018\", \"2019\"]\n",
    "# years_to_process = [\"2005\"]\n",
    "# for year in years_to_process:\n",
    "#     files = tfm.getListOfFiles(tfm.getPathToProcessedSnapshotReservasFolder(\"parquet\", year))\n",
    "#     current_snapshot_data = pd.DataFrame()\n",
    "#     result_ocupacion_data = pd.DataFrame()\n",
    "#     for file in files:\n",
    "#         current_snapshot_data = pd.read_parquet(file)\n",
    "#         filtro_reservas_activas = ((current_snapshot_data[\"Estado reserva\"] == \"Reserva\") | (current_snapshot_data[\"Estado reserva\"] == \"Entrada\"))\n",
    "#         current_snapshot_data = current_snapshot_data[filtro_reservas_activas]\n",
    "#         current_snapshot_data[\"Fecha prevision\"] = [pd.date_range(entrada, salida, freq=\"d\", closed=\"left\") for entrada, salida in \n",
    "#                                                     zip(pd.to_datetime(current_snapshot_data[\"Fecha entrada\"]), \n",
    "#                                                         pd.to_datetime(current_snapshot_data[\"Fecha salida\"]))]\n",
    "#         current_snapshot_data = current_snapshot_data.explode(\"Fecha prevision\")\n",
    "#         result_ocupacion_data = pd.concat([result_ocupacion_data, current_snapshot_data]) \n",
    "\n",
    "#     result_ocupacion_data.set_index([\"Hotel\", \"Fecha foto\", \"Fecha prevision\"], inplace=True)\n",
    "#     result_ocupacion_data.sort_index(inplace=True)\n",
    "#     result_ocupacion_data.to_parquet(tfm.getPathToProcessedSnapshotOcupacion(\"parquet\", year), index=True)\n",
    "#     result_ocupacion_data.to_csv(tfm.getPathToProcessedSnapshotOcupacion(\"csv\", year), index=True, sep=\"|\", escapechar=\"~\", encoding=\"cp1252\")"
   ]
  },
  {
   "cell_type": "code",
   "execution_count": 6,
   "metadata": {},
   "outputs": [],
   "source": [
    "# years_to_process = [\"2005\", \"2006\", \"2007\", \"2008\", \"2009\", \"2010\", \"2011\", \"2012\", \"2013\", \"2014\", \"2015\", \"2016\", \"2017\", \"2018\", \"2019\"]\n",
    "# years_to_process = [\"2014\", \"2015\", \"2016\", \"2017\", \"2018\", \"2019\"]\n",
    "years_to_process = [\"2007\", \"2008\", \"2009\", \"2010\", \"2011\", \"2012\", \"2013\", \"2014\", \"2015\", \"2016\", \"2017\", \"2018\", \"2019\"]\n",
    "for year in years_to_process:\n",
    "    files = tfm.getListOfFiles(tfm.getPathToProcessedSnapshotReservasFolder(\"parquet\", year))\n",
    "    result_ocupacion_data = pd.DataFrame()\n",
    "    for file in files:\n",
    "        current_snapshot_data = pd.read_parquet(file, columns=[\"Hotel\", \"Fecha venta\", \"Fecha entrada\", \"Fecha salida\", \"Noches\", \"Cantidad habitaciones\", \"Estado reserva\", \"Fecha Borrado\", \"Días Anticipación\", \"Fecha foto\"])\n",
    "        current_snapshot_data.reset_index(inplace=True)\n",
    "        current_snapshot_data[\"Hotel\"] = current_snapshot_data.Hotel.astype(\"category\")\n",
    "        current_snapshot_data[\"Estado reserva\"] = current_snapshot_data[\"Estado reserva\"].astype(\"category\")        \n",
    "        \n",
    "        filtro_reservas_activas = ((current_snapshot_data[\"Estado reserva\"] == \"Reserva\") | (current_snapshot_data[\"Estado reserva\"] == \"Entrada\"))\n",
    "        current_snapshot_data = current_snapshot_data[filtro_reservas_activas]\n",
    "\n",
    "        fecha_foto = current_snapshot_data[\"Fecha foto\"].min()\n",
    "        current_snapshot_data[\"Fecha inicio\"] = current_snapshot_data[\"Fecha entrada\"].apply(lambda x : x if x > fecha_foto else fecha_foto)\n",
    "        \n",
    "        current_snapshot_data[\"Fecha prevision\"] = [pd.date_range(entrada, salida, freq=\"d\", closed=\"left\") for entrada, salida in \n",
    "                                                    zip(pd.to_datetime(current_snapshot_data[\"Fecha inicio\"]), \n",
    "                                                        pd.to_datetime(current_snapshot_data[\"Fecha salida\"]))]\n",
    "        current_snapshot_data.drop(columns=[\"Fecha inicio\"], inplace=True)   \n",
    "        current_snapshot_data = current_snapshot_data.explode(\"Fecha prevision\")\n",
    "        result_ocupacion_data = pd.concat([result_ocupacion_data, current_snapshot_data]) \n",
    "\n",
    "    # result_ocupacion_data.set_index([\"Hotel\", \"Fecha foto\", \"Fecha prevision\"], inplace=True)\n",
    "    # result_ocupacion_data.sort_index(inplace=True)\n",
    "    result_ocupacion_data.to_parquet(tfm.getPathToProcessedSnapshotOcupacion(\"parquet\", year), index=False)\n",
    "    # result_ocupacion_data.to_csv(tfm.getPathToProcessedSnapshotOcupacion(\"csv\", year), index=True, sep=\"|\", escapechar=\"~\", encoding=\"cp1252\")"
   ]
  }
 ],
 "metadata": {
  "interpreter": {
   "hash": "fd805c183e6d02ab737a173673e4517893d2a30528e63f735fc80f3414e5cfc0"
  },
  "kernelspec": {
   "display_name": "Python 3.7.11 64-bit ('darts': conda)",
   "language": "python",
   "name": "python3"
  },
  "language_info": {
   "codemirror_mode": {
    "name": "ipython",
    "version": 3
   },
   "file_extension": ".py",
   "mimetype": "text/x-python",
   "name": "python",
   "nbconvert_exporter": "python",
   "pygments_lexer": "ipython3",
   "version": "3.7.11"
  },
  "orig_nbformat": 4
 },
 "nbformat": 4,
 "nbformat_minor": 2
}
