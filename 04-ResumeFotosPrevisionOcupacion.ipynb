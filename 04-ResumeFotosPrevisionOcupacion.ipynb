{
 "cells": [
  {
   "cell_type": "markdown",
   "metadata": {},
   "source": [
    "# Resumimos las Fotos de Previsión\n",
    "\n",
    "De forma que tengamos la ocupación a una fecha para cada Hotel y Fecha Foto, así como el total de habitaciones del hotel, para poder calcular el % de Ocupación. De esta forma tendremso nuestos valores normalizados.\n",
    "\n",
    "_Importación de librerias_"
   ]
  },
  {
   "cell_type": "code",
   "execution_count": 1,
   "metadata": {},
   "outputs": [],
   "source": [
    "import pandas as pd\n",
    "\n",
    "import tfm_helpers as tfm\n",
    "pd.set_option(\"display.max_columns\", None)"
   ]
  },
  {
   "cell_type": "markdown",
   "metadata": {},
   "source": [
    "Procesamos los ficheros para generar previsiones agrupadas por año"
   ]
  },
  {
   "cell_type": "code",
   "execution_count": 2,
   "metadata": {},
   "outputs": [],
   "source": [
    "years_to_process = [\"2005\", \"2006\", \"2007\", \"2008\", \"2009\", \"2010\", \"2011\", \"2012\", \"2013\", \"2014\", \"2015\", \"2016\", \"2017\", \"2018\", \"2019\"]\n",
    "\n",
    "resumen_ocupacion_data = pd.DataFrame()\n",
    "\n",
    "for year in years_to_process:\n",
    "    file = tfm.getPathToProcessedSnapshotOcupacion(\"parquet\", year)\n",
    "\n",
    "    current_ocupacion_data = pd.read_parquet(file, columns=[\"Hotel\", \"Fecha foto\", \"Fecha prevision\", \"Cantidad habitaciones\"])\n",
    "    current_ocupacion_data[\"Hotel\"] = current_ocupacion_data.Hotel.astype(\"category\")\n",
    "    current_ocupacion_data.set_index([\"Hotel\", \"Fecha foto\", \"Fecha prevision\"], inplace=True)\n",
    "    \n",
    "    current_ocupacion_data = pd.DataFrame(current_ocupacion_data.groupby([\"Hotel\", \"Fecha foto\", \"Fecha prevision\"])[\"Cantidad habitaciones\"].agg(\"sum\"))\n",
    "    \n",
    "    filtro_habitaciones = (current_ocupacion_data[\"Cantidad habitaciones\"]>0)\n",
    "    resumen_ocupacion_data = pd.concat([resumen_ocupacion_data, current_ocupacion_data[filtro_habitaciones]])\n"
   ]
  },
  {
   "cell_type": "code",
   "execution_count": 3,
   "metadata": {},
   "outputs": [
    {
     "data": {
      "text/html": [
       "<div>\n",
       "<style scoped>\n",
       "    .dataframe tbody tr th:only-of-type {\n",
       "        vertical-align: middle;\n",
       "    }\n",
       "\n",
       "    .dataframe tbody tr th {\n",
       "        vertical-align: top;\n",
       "    }\n",
       "\n",
       "    .dataframe thead th {\n",
       "        text-align: right;\n",
       "    }\n",
       "</style>\n",
       "<table border=\"1\" class=\"dataframe\">\n",
       "  <thead>\n",
       "    <tr style=\"text-align: right;\">\n",
       "      <th></th>\n",
       "      <th></th>\n",
       "      <th></th>\n",
       "      <th>Cantidad habitaciones</th>\n",
       "    </tr>\n",
       "    <tr>\n",
       "      <th>Hotel</th>\n",
       "      <th>Fecha foto</th>\n",
       "      <th>Fecha prevision</th>\n",
       "      <th></th>\n",
       "    </tr>\n",
       "  </thead>\n",
       "  <tbody>\n",
       "    <tr>\n",
       "      <th rowspan=\"5\" valign=\"top\">04</th>\n",
       "      <th rowspan=\"5\" valign=\"top\">2005-10-31</th>\n",
       "      <th>2006-03-24</th>\n",
       "      <td>1</td>\n",
       "    </tr>\n",
       "    <tr>\n",
       "      <th>2006-03-25</th>\n",
       "      <td>1</td>\n",
       "    </tr>\n",
       "    <tr>\n",
       "      <th>2006-03-26</th>\n",
       "      <td>1</td>\n",
       "    </tr>\n",
       "    <tr>\n",
       "      <th>2006-03-27</th>\n",
       "      <td>1</td>\n",
       "    </tr>\n",
       "    <tr>\n",
       "      <th>2006-03-28</th>\n",
       "      <td>1</td>\n",
       "    </tr>\n",
       "  </tbody>\n",
       "</table>\n",
       "</div>"
      ],
      "text/plain": [
       "                                  Cantidad habitaciones\n",
       "Hotel Fecha foto Fecha prevision                       \n",
       "04    2005-10-31 2006-03-24                           1\n",
       "                 2006-03-25                           1\n",
       "                 2006-03-26                           1\n",
       "                 2006-03-27                           1\n",
       "                 2006-03-28                           1"
      ]
     },
     "execution_count": 3,
     "metadata": {},
     "output_type": "execute_result"
    }
   ],
   "source": [
    "resumen_ocupacion_data.head()"
   ]
  },
  {
   "cell_type": "markdown",
   "metadata": {},
   "source": [
    "_Procesamos el resumen de habitaciones por hotel_"
   ]
  },
  {
   "cell_type": "markdown",
   "metadata": {},
   "source": [
    "* Tipos de Habitación"
   ]
  },
  {
   "cell_type": "code",
   "execution_count": 4,
   "metadata": {},
   "outputs": [],
   "source": [
    "tipos_habitacion_dtypes = {\n",
    "    \"Hotel\" : str\n",
    "}\n",
    "\n",
    "tipos_habitacion_parse_dates = [\n",
    "    \"Fecha\"\n",
    "]\n",
    "\n",
    "tipos_habitacion_cols = list(tipos_habitacion_dtypes.keys()) + tipos_habitacion_parse_dates + [\"RAL Cantidad AA\"]"
   ]
  },
  {
   "cell_type": "code",
   "execution_count": 5,
   "metadata": {},
   "outputs": [],
   "source": [
    "all_hotels_tipos_habitacion = pd.DataFrame()\n",
    "for hotel in tfm.hoteles:   \n",
    "    files = tfm.getListOfFiles(tfm.getSourcePathToHistoricalPresupuestoTiposHabitacionHotel(tfm.data_source_path, hotel))\n",
    "    for file in files:\n",
    "        current_data = pd.read_csv(\n",
    "                            file, \n",
    "                            sep=\"|\", \n",
    "                            escapechar=\"~\",\n",
    "                            encoding=\"cp1252\", \n",
    "                            on_bad_lines=\"skip\", \n",
    "                            encoding_errors=\"ignore\",\n",
    "                            quoting=3,\n",
    "                            usecols=tipos_habitacion_cols,\n",
    "                            dtype=tipos_habitacion_dtypes, \n",
    "                            parse_dates=tipos_habitacion_parse_dates,\n",
    "                            converters={\"RAL Cantidad AA\":tfm.to_integer}\n",
    "                        )\n",
    "        current_data[\"Hotel\"] = current_data.Hotel.astype(\"category\")\n",
    "        \n",
    "        current_data.set_index([\"Hotel\", \"Fecha\"], inplace=True)\n",
    "        all_hotels_tipos_habitacion = pd.concat([all_hotels_tipos_habitacion, current_data])\n",
    "        all_hotels_tipos_habitacion.sort_index(inplace=True)\n"
   ]
  },
  {
   "cell_type": "code",
   "execution_count": 6,
   "metadata": {},
   "outputs": [
    {
     "data": {
      "text/html": [
       "<div>\n",
       "<style scoped>\n",
       "    .dataframe tbody tr th:only-of-type {\n",
       "        vertical-align: middle;\n",
       "    }\n",
       "\n",
       "    .dataframe tbody tr th {\n",
       "        vertical-align: top;\n",
       "    }\n",
       "\n",
       "    .dataframe thead th {\n",
       "        text-align: right;\n",
       "    }\n",
       "</style>\n",
       "<table border=\"1\" class=\"dataframe\">\n",
       "  <thead>\n",
       "    <tr style=\"text-align: right;\">\n",
       "      <th></th>\n",
       "      <th></th>\n",
       "      <th>RAL Cantidad AA</th>\n",
       "    </tr>\n",
       "    <tr>\n",
       "      <th>Hotel</th>\n",
       "      <th>Fecha</th>\n",
       "      <th></th>\n",
       "    </tr>\n",
       "  </thead>\n",
       "  <tbody>\n",
       "    <tr>\n",
       "      <th rowspan=\"5\" valign=\"top\">02</th>\n",
       "      <th>2009-01-01</th>\n",
       "      <td>0</td>\n",
       "    </tr>\n",
       "    <tr>\n",
       "      <th>2009-01-01</th>\n",
       "      <td>0</td>\n",
       "    </tr>\n",
       "    <tr>\n",
       "      <th>2009-01-01</th>\n",
       "      <td>0</td>\n",
       "    </tr>\n",
       "    <tr>\n",
       "      <th>2009-01-01</th>\n",
       "      <td>0</td>\n",
       "    </tr>\n",
       "    <tr>\n",
       "      <th>2009-01-01</th>\n",
       "      <td>0</td>\n",
       "    </tr>\n",
       "  </tbody>\n",
       "</table>\n",
       "</div>"
      ],
      "text/plain": [
       "                  RAL Cantidad AA\n",
       "Hotel Fecha                      \n",
       "02    2009-01-01                0\n",
       "      2009-01-01                0\n",
       "      2009-01-01                0\n",
       "      2009-01-01                0\n",
       "      2009-01-01                0"
      ]
     },
     "execution_count": 6,
     "metadata": {},
     "output_type": "execute_result"
    }
   ],
   "source": [
    "all_hotels_tipos_habitacion.head()"
   ]
  },
  {
   "cell_type": "markdown",
   "metadata": {},
   "source": [
    "_Unificamos todos los tipos de habitación para obtener un total de habitaciones diario por Hotel_"
   ]
  },
  {
   "cell_type": "code",
   "execution_count": 7,
   "metadata": {},
   "outputs": [],
   "source": [
    "all_hotels_tipos_habitacion = all_hotels_tipos_habitacion.groupby([\"Hotel\", \"Fecha\"]).sum()"
   ]
  },
  {
   "cell_type": "markdown",
   "metadata": {},
   "source": [
    "_Hacemos un merge de ambos dataframes para poder realizar los cálculos del % de ocupación_"
   ]
  },
  {
   "cell_type": "code",
   "execution_count": 8,
   "metadata": {},
   "outputs": [],
   "source": [
    "prevision_ocupacion = pd.merge(resumen_ocupacion_data, all_hotels_tipos_habitacion, how=\"left\", left_on=[\"Hotel\", \"Fecha prevision\"], right_index=True)\n",
    "prevision_ocupacion.rename(columns={\"RAL Cantidad AA\":\"Habitaciones Hotel\"}, inplace=True)\n",
    "prevision_ocupacion.sort_index(inplace=True)"
   ]
  },
  {
   "cell_type": "code",
   "execution_count": 9,
   "metadata": {},
   "outputs": [
    {
     "data": {
      "text/html": [
       "<div>\n",
       "<style scoped>\n",
       "    .dataframe tbody tr th:only-of-type {\n",
       "        vertical-align: middle;\n",
       "    }\n",
       "\n",
       "    .dataframe tbody tr th {\n",
       "        vertical-align: top;\n",
       "    }\n",
       "\n",
       "    .dataframe thead th {\n",
       "        text-align: right;\n",
       "    }\n",
       "</style>\n",
       "<table border=\"1\" class=\"dataframe\">\n",
       "  <thead>\n",
       "    <tr style=\"text-align: right;\">\n",
       "      <th></th>\n",
       "      <th></th>\n",
       "      <th></th>\n",
       "      <th>Cantidad habitaciones</th>\n",
       "      <th>Habitaciones Hotel</th>\n",
       "    </tr>\n",
       "    <tr>\n",
       "      <th>Hotel</th>\n",
       "      <th>Fecha foto</th>\n",
       "      <th>Fecha prevision</th>\n",
       "      <th></th>\n",
       "      <th></th>\n",
       "    </tr>\n",
       "  </thead>\n",
       "  <tbody>\n",
       "    <tr>\n",
       "      <th rowspan=\"5\" valign=\"top\">02</th>\n",
       "      <th rowspan=\"5\" valign=\"top\">2012-06-10</th>\n",
       "      <th>2013-09-19</th>\n",
       "      <td>1</td>\n",
       "      <td>297.0</td>\n",
       "    </tr>\n",
       "    <tr>\n",
       "      <th>2013-09-20</th>\n",
       "      <td>1</td>\n",
       "      <td>297.0</td>\n",
       "    </tr>\n",
       "    <tr>\n",
       "      <th>2013-09-21</th>\n",
       "      <td>1</td>\n",
       "      <td>297.0</td>\n",
       "    </tr>\n",
       "    <tr>\n",
       "      <th>2013-09-22</th>\n",
       "      <td>1</td>\n",
       "      <td>297.0</td>\n",
       "    </tr>\n",
       "    <tr>\n",
       "      <th>2013-09-23</th>\n",
       "      <td>1</td>\n",
       "      <td>297.0</td>\n",
       "    </tr>\n",
       "  </tbody>\n",
       "</table>\n",
       "</div>"
      ],
      "text/plain": [
       "                                  Cantidad habitaciones  Habitaciones Hotel\n",
       "Hotel Fecha foto Fecha prevision                                           \n",
       "02    2012-06-10 2013-09-19                           1               297.0\n",
       "                 2013-09-20                           1               297.0\n",
       "                 2013-09-21                           1               297.0\n",
       "                 2013-09-22                           1               297.0\n",
       "                 2013-09-23                           1               297.0"
      ]
     },
     "execution_count": 9,
     "metadata": {},
     "output_type": "execute_result"
    }
   ],
   "source": [
    "prevision_ocupacion.head()"
   ]
  },
  {
   "cell_type": "markdown",
   "metadata": {},
   "source": [
    "_Guardamos los resultados_"
   ]
  },
  {
   "cell_type": "code",
   "execution_count": 10,
   "metadata": {},
   "outputs": [],
   "source": [
    "\n",
    "prevision_ocupacion.to_parquet(tfm.getPathToProcessedSnapshotResumenOcupacion(\"parquet\"), index=True)"
   ]
  }
 ],
 "metadata": {
  "interpreter": {
   "hash": "fd805c183e6d02ab737a173673e4517893d2a30528e63f735fc80f3414e5cfc0"
  },
  "kernelspec": {
   "display_name": "Python 3.7.11 64-bit ('darts': conda)",
   "language": "python",
   "name": "python3"
  },
  "language_info": {
   "codemirror_mode": {
    "name": "ipython",
    "version": 3
   },
   "file_extension": ".py",
   "mimetype": "text/x-python",
   "name": "python",
   "nbconvert_exporter": "python",
   "pygments_lexer": "ipython3",
   "version": "3.7.11"
  },
  "orig_nbformat": 4
 },
 "nbformat": 4,
 "nbformat_minor": 2
}
