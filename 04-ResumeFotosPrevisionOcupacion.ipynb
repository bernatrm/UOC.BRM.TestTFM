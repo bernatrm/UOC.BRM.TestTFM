{
 "cells": [
  {
   "cell_type": "markdown",
   "metadata": {},
   "source": [
    "# Resumimos las Foto Previsión, de forma que tnegamos un % de ocupación por Hotel, Fecha Foto y Previsión\n",
    "\n",
    "_Importación de librerias_"
   ]
  },
  {
   "cell_type": "code",
   "execution_count": 1,
   "metadata": {},
   "outputs": [],
   "source": [
    "import pandas as pd\n",
    "import tfm_helpers as tfm\n",
    "\n",
    "pd.set_option(\"display.max_columns\", None)"
   ]
  },
  {
   "cell_type": "markdown",
   "metadata": {},
   "source": [
    "Procesamos los ficheros para generar previsiones agrupadas por año"
   ]
  },
  {
   "cell_type": "code",
   "execution_count": 2,
   "metadata": {},
   "outputs": [],
   "source": [
    "years_to_process = [\"2005\", \"2006\", \"2007\", \"2008\", \"2009\", \"2010\", \"2011\", \"2012\", \"2013\", \"2014\", \"2015\", \"2016\", \"2017\", \"2018\", \"2019\"]\n",
    "# years_to_process = [\"2006\"]\n",
    "resumen_ocupacion_data = pd.DataFrame()\n",
    "\n",
    "for year in years_to_process:\n",
    "    file = tfm.getPathToProcessedSnapshotOcupacion(\"parquet\", year)\n",
    "\n",
    "    current_ocupacion_data = pd.read_parquet(file, columns=[\"Hotel\", \"Fecha foto\", \"Fecha prevision\", \"Cantidad habitaciones\"])\n",
    "    current_ocupacion_data[\"Hotel\"] = current_ocupacion_data.Hotel.astype(\"category\")\n",
    "    current_ocupacion_data.set_index([\"Hotel\", \"Fecha foto\", \"Fecha prevision\"], inplace=True)\n",
    "    current_ocupacion_data = pd.DataFrame(current_ocupacion_data.groupby([\"Hotel\", \"Fecha foto\", \"Fecha prevision\"])[\"Cantidad habitaciones\"].agg(\"sum\"))\n",
    "    filtro_habitaciones = (current_ocupacion_data[\"Cantidad habitaciones\"]>0)\n",
    "    resumen_ocupacion_data = pd.concat([resumen_ocupacion_data, current_ocupacion_data[filtro_habitaciones]])\n",
    "\n",
    "resumen_ocupacion_data.to_parquet(tfm.getPathToProcessedSnapshotResumenOcupacion(\"parquet\"), index=True)\n"
   ]
  },
  {
   "cell_type": "code",
   "execution_count": 3,
   "metadata": {},
   "outputs": [
    {
     "data": {
      "text/html": [
       "<div>\n",
       "<style scoped>\n",
       "    .dataframe tbody tr th:only-of-type {\n",
       "        vertical-align: middle;\n",
       "    }\n",
       "\n",
       "    .dataframe tbody tr th {\n",
       "        vertical-align: top;\n",
       "    }\n",
       "\n",
       "    .dataframe thead th {\n",
       "        text-align: right;\n",
       "    }\n",
       "</style>\n",
       "<table border=\"1\" class=\"dataframe\">\n",
       "  <thead>\n",
       "    <tr style=\"text-align: right;\">\n",
       "      <th></th>\n",
       "      <th></th>\n",
       "      <th></th>\n",
       "      <th>Cantidad habitaciones</th>\n",
       "    </tr>\n",
       "    <tr>\n",
       "      <th>Hotel</th>\n",
       "      <th>Fecha foto</th>\n",
       "      <th>Fecha prevision</th>\n",
       "      <th></th>\n",
       "    </tr>\n",
       "  </thead>\n",
       "  <tbody>\n",
       "    <tr>\n",
       "      <th rowspan=\"5\" valign=\"top\">04</th>\n",
       "      <th rowspan=\"5\" valign=\"top\">2006-01-01</th>\n",
       "      <th>2006-02-12</th>\n",
       "      <td>1</td>\n",
       "    </tr>\n",
       "    <tr>\n",
       "      <th>2006-02-13</th>\n",
       "      <td>1</td>\n",
       "    </tr>\n",
       "    <tr>\n",
       "      <th>2006-02-14</th>\n",
       "      <td>1</td>\n",
       "    </tr>\n",
       "    <tr>\n",
       "      <th>2006-02-15</th>\n",
       "      <td>1</td>\n",
       "    </tr>\n",
       "    <tr>\n",
       "      <th>2006-02-16</th>\n",
       "      <td>1</td>\n",
       "    </tr>\n",
       "  </tbody>\n",
       "</table>\n",
       "</div>"
      ],
      "text/plain": [
       "                                  Cantidad habitaciones\n",
       "Hotel Fecha foto Fecha prevision                       \n",
       "04    2006-01-01 2006-02-12                           1\n",
       "                 2006-02-13                           1\n",
       "                 2006-02-14                           1\n",
       "                 2006-02-15                           1\n",
       "                 2006-02-16                           1"
      ]
     },
     "execution_count": 3,
     "metadata": {},
     "output_type": "execute_result"
    }
   ],
   "source": [
    "df = resumen_ocupacion_data\n",
    "df.head()"
   ]
  }
 ],
 "metadata": {
  "interpreter": {
   "hash": "fd805c183e6d02ab737a173673e4517893d2a30528e63f735fc80f3414e5cfc0"
  },
  "kernelspec": {
   "display_name": "Python 3.7.11 64-bit ('darts': conda)",
   "language": "python",
   "name": "python3"
  },
  "language_info": {
   "codemirror_mode": {
    "name": "ipython",
    "version": 3
   },
   "file_extension": ".py",
   "mimetype": "text/x-python",
   "name": "python",
   "nbconvert_exporter": "python",
   "pygments_lexer": "ipython3",
   "version": "3.7.11"
  },
  "orig_nbformat": 4
 },
 "nbformat": 4,
 "nbformat_minor": 2
}
